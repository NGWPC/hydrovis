{
 "cells": [
  {
   "cell_type": "markdown",
   "id": "a68682e2-c7b4-4637-89ef-bf3279e735ed",
   "metadata": {},
   "source": [
    "# Test Historical Flooding Event\n",
    "\n",
    "As per the PWS requirements, RTX is obligated to test RnR on a historical event. The purpose of this notebook is to showcase the internal functions within RnR while demonstrating the capability"
   ]
  },
  {
   "cell_type": "markdown",
   "id": "7afa2784-a3c6-4099-bc70-70ca974045ff",
   "metadata": {},
   "source": [
    "### Step 0) Read in the data"
   ]
  },
  {
   "cell_type": "code",
   "execution_count": 1,
   "id": "99fd4e3a-4a38-40f5-b420-6e7e0f9ee49a",
   "metadata": {
    "collapsed": true,
    "jupyter": {
     "outputs_hidden": true
    },
    "tags": []
   },
   "outputs": [
    {
     "name": "stdout",
     "output_type": "stream",
     "text": [
      "Hit:1 http://deb.debian.org/debian bookworm InRelease\n",
      "Hit:2 http://deb.debian.org/debian bookworm-updates InRelease\n",
      "Hit:3 http://deb.debian.org/debian-security bookworm-security InRelease\n",
      "Reading package lists... Done\n",
      "Reading package lists... Done\n",
      "Building dependency tree... Done\n",
      "Reading state information... Done\n",
      "unzip is already the newest version (6.0-28).\n",
      "0 upgraded, 0 newly installed, 0 to remove and 0 not upgraded.\n",
      "Archive:  historical_flood_data.zip\n",
      " extracting: historical_flood_event/rfc_channel_forcings/SVRM7/202408291800.CHRTOUT_DOMAIN1.csv  \n",
      " extracting: historical_flood_event/rfc_channel_forcings/SVRM7/202409020600.CHRTOUT_DOMAIN1.csv  \n",
      "  inflating: historical_flood_event/rfc_channel_forcings/SVRM7/202409100600.CHRTOUT_DOMAIN1.csv  \n",
      " extracting: historical_flood_event/rfc_channel_forcings/SVRM7/202408311800.CHRTOUT_DOMAIN1.csv  \n",
      "  inflating: historical_flood_event/rfc_channel_forcings/SVRM7/202408280000.CHRTOUT_DOMAIN1.csv  \n",
      " extracting: historical_flood_event/rfc_channel_forcings/SVRM7/202409041800.CHRTOUT_DOMAIN1.csv  \n",
      " extracting: historical_flood_event/rfc_channel_forcings/SVRM7/202408241800.CHRTOUT_DOMAIN1.csv  \n",
      " extracting: historical_flood_event/rfc_channel_forcings/SVRM7/202409010000.CHRTOUT_DOMAIN1.csv  \n",
      " extracting: historical_flood_event/rfc_channel_forcings/SVRM7/202409081200.CHRTOUT_DOMAIN1.csv  \n",
      " extracting: historical_flood_event/rfc_channel_forcings/SVRM7/202408281200.CHRTOUT_DOMAIN1.csv  \n",
      "  inflating: historical_flood_event/rfc_channel_forcings/SVRM7/202409100000.CHRTOUT_DOMAIN1.csv  \n",
      " extracting: historical_flood_event/rfc_channel_forcings/SVRM7/202409030000.CHRTOUT_DOMAIN1.csv  \n",
      "  inflating: historical_flood_event/rfc_channel_forcings/SVRM7/202409010600.CHRTOUT_DOMAIN1.csv  \n",
      " extracting: historical_flood_event/rfc_channel_forcings/SVRM7/202409051200.CHRTOUT_DOMAIN1.csv  \n",
      " extracting: historical_flood_event/rfc_channel_forcings/SVRM7/202408250000.CHRTOUT_DOMAIN1.csv  \n",
      " extracting: historical_flood_event/rfc_channel_forcings/SVRM7/202409030600.CHRTOUT_DOMAIN1.csv  \n",
      " extracting: historical_flood_event/rfc_channel_forcings/SVRM7/202409011200.CHRTOUT_DOMAIN1.csv  \n",
      " extracting: historical_flood_event/rfc_channel_forcings/SVRM7/202408290600.CHRTOUT_DOMAIN1.csv  \n",
      " extracting: historical_flood_event/rfc_channel_forcings/SVRM7/202409040600.CHRTOUT_DOMAIN1.csv  \n",
      " extracting: historical_flood_event/rfc_channel_forcings/SVRM7/202408311200.CHRTOUT_DOMAIN1.csv  \n",
      " extracting: historical_flood_event/rfc_channel_forcings/SVRM7/202409091800.CHRTOUT_DOMAIN1.csv  \n",
      " extracting: historical_flood_event/rfc_channel_forcings/SVRM7/202409020000.CHRTOUT_DOMAIN1.csv  \n",
      " extracting: historical_flood_event/rfc_channel_forcings/SVRM7/202409071800.CHRTOUT_DOMAIN1.csv  \n",
      " extracting: historical_flood_event/rfc_channel_forcings/SVRM7/202408251200.CHRTOUT_DOMAIN1.csv  \n",
      " extracting: historical_flood_event/rfc_channel_forcings/SVRM7/202408281800.CHRTOUT_DOMAIN1.csv  \n",
      " extracting: historical_flood_event/rfc_channel_forcings/SVRM7/202409080000.CHRTOUT_DOMAIN1.csv  \n",
      " extracting: historical_flood_event/rfc_channel_forcings/SVRM7/202409031800.CHRTOUT_DOMAIN1.csv  \n",
      "  inflating: historical_flood_event/rfc_channel_forcings/SVRM7/202408310600.CHRTOUT_DOMAIN1.csv  \n",
      " extracting: historical_flood_event/rfc_channel_forcings/SVRM7/202408251800.CHRTOUT_DOMAIN1.csv  \n",
      " extracting: historical_flood_event/rfc_channel_forcings/SVRM7/202408270000.CHRTOUT_DOMAIN1.csv  \n",
      " extracting: historical_flood_event/rfc_channel_forcings/SVRM7/202408301800.CHRTOUT_DOMAIN1.csv  \n",
      " extracting: historical_flood_event/rfc_channel_forcings/SVRM7/202408310000.CHRTOUT_DOMAIN1.csv  \n",
      " extracting: historical_flood_event/rfc_channel_forcings/SVRM7/202409011800.CHRTOUT_DOMAIN1.csv  \n",
      "  inflating: historical_flood_event/rfc_channel_forcings/SVRM7/202408300000.CHRTOUT_DOMAIN1.csv  \n",
      " extracting: historical_flood_event/rfc_channel_forcings/SVRM7/202408271200.CHRTOUT_DOMAIN1.csv  \n",
      " extracting: historical_flood_event/rfc_channel_forcings/SVRM7/202408261200.CHRTOUT_DOMAIN1.csv  \n",
      " extracting: historical_flood_event/rfc_channel_forcings/SVRM7/202409081800.CHRTOUT_DOMAIN1.csv  \n",
      "  inflating: historical_flood_event/rfc_channel_forcings/SVRM7/202409090600.CHRTOUT_DOMAIN1.csv  \n",
      " extracting: historical_flood_event/rfc_channel_forcings/SVRM7/202408260600.CHRTOUT_DOMAIN1.csv  \n",
      " extracting: historical_flood_event/rfc_channel_forcings/SVRM7/202409031200.CHRTOUT_DOMAIN1.csv  \n",
      " extracting: historical_flood_event/rfc_channel_forcings/SVRM7/202409021200.CHRTOUT_DOMAIN1.csv  \n",
      " extracting: historical_flood_event/rfc_channel_forcings/SVRM7/202408261800.CHRTOUT_DOMAIN1.csv  \n",
      " extracting: historical_flood_event/rfc_channel_forcings/SVRM7/202409080600.CHRTOUT_DOMAIN1.csv  \n",
      " extracting: historical_flood_event/rfc_channel_forcings/SVRM7/202409061800.CHRTOUT_DOMAIN1.csv  \n",
      " extracting: historical_flood_event/rfc_channel_forcings/SVRM7/202409040000.CHRTOUT_DOMAIN1.csv  \n",
      " extracting: historical_flood_event/rfc_channel_forcings/SVRM7/202408301200.CHRTOUT_DOMAIN1.csv  \n",
      " extracting: historical_flood_event/rfc_channel_forcings/SVRM7/202409070600.CHRTOUT_DOMAIN1.csv  \n",
      " extracting: historical_flood_event/rfc_channel_forcings/SVRM7/202409050000.CHRTOUT_DOMAIN1.csv  \n",
      "  inflating: historical_flood_event/rfc_channel_forcings/SVRM7/202409060600.CHRTOUT_DOMAIN1.csv  \n",
      "  inflating: historical_flood_event/rfc_channel_forcings/SVRM7/202409091200.CHRTOUT_DOMAIN1.csv  \n",
      "  inflating: historical_flood_event/rfc_channel_forcings/SVRM7/202409060000.CHRTOUT_DOMAIN1.csv  \n",
      " extracting: historical_flood_event/rfc_channel_forcings/SVRM7/202408291200.CHRTOUT_DOMAIN1.csv  \n",
      " extracting: historical_flood_event/rfc_channel_forcings/SVRM7/202409041200.CHRTOUT_DOMAIN1.csv  \n",
      " extracting: historical_flood_event/rfc_channel_forcings/SVRM7/202409061200.CHRTOUT_DOMAIN1.csv  \n",
      "  inflating: historical_flood_event/rfc_channel_forcings/SVRM7/202408270600.CHRTOUT_DOMAIN1.csv  \n",
      " extracting: historical_flood_event/rfc_channel_forcings/SVRM7/202408290000.CHRTOUT_DOMAIN1.csv  \n",
      " extracting: historical_flood_event/rfc_channel_forcings/SVRM7/202409051800.CHRTOUT_DOMAIN1.csv  \n",
      " extracting: historical_flood_event/rfc_channel_forcings/SVRM7/202409021800.CHRTOUT_DOMAIN1.csv  \n",
      " extracting: historical_flood_event/rfc_channel_forcings/SVRM7/202408260000.CHRTOUT_DOMAIN1.csv  \n",
      " extracting: historical_flood_event/rfc_channel_forcings/SVRM7/202409070000.CHRTOUT_DOMAIN1.csv  \n",
      " extracting: historical_flood_event/rfc_channel_forcings/SVRM7/202408300600.CHRTOUT_DOMAIN1.csv  \n",
      " extracting: historical_flood_event/rfc_channel_forcings/SVRM7/202408250600.CHRTOUT_DOMAIN1.csv  \n",
      "  inflating: historical_flood_event/rfc_channel_forcings/SVRM7/202409101200.CHRTOUT_DOMAIN1.csv  \n",
      " extracting: historical_flood_event/rfc_channel_forcings/SVRM7/202409050600.CHRTOUT_DOMAIN1.csv  \n",
      "  inflating: historical_flood_event/rfc_channel_forcings/SVRM7/202408280600.CHRTOUT_DOMAIN1.csv  \n",
      "  inflating: historical_flood_event/rfc_channel_forcings/SVRM7/202409090000.CHRTOUT_DOMAIN1.csv  \n",
      " extracting: historical_flood_event/rfc_channel_forcings/SVRM7/202409071200.CHRTOUT_DOMAIN1.csv  \n",
      " extracting: historical_flood_event/rfc_channel_forcings/SVRM7/202408271800.CHRTOUT_DOMAIN1.csv  \n",
      " extracting: historical_flood_event/rfc_channel_forcings/.gitkeep  \n",
      " extracting: historical_flood_event/rfc_geopackage_data/.gitkeep  \n",
      "  inflating: historical_flood_event/rfc_geopackage_data/2927561/downstream.gpkg  \n",
      "  inflating: historical_flood_event/rfc_geopackage_data/2927561/subset.gpkg  \n",
      " extracting: historical_flood_event/plots/.gitkeep  \n",
      " extracting: historical_flood_event/troute_restart/.gitkeep  \n",
      " extracting: historical_flood_event/troute_output/.gitkeep  \n",
      "  inflating: historical_flood_event/forecast_message.json  \n"
     ]
    }
   ],
   "source": [
    "!apt-get update && apt-get install -y unzip\n",
    "!unzip -o historical_flood_data.zip"
   ]
  },
  {
   "cell_type": "code",
   "execution_count": null,
   "id": "30b816d2-9700-4ee1-ae65-76f390e0a84c",
   "metadata": {},
   "outputs": [],
   "source": [
    "ddddsdfasdfsdasdasds"
   ]
  },
  {
   "cell_type": "code",
   "execution_count": null,
   "id": "5aad9e48-8bb9-463b-8d70-702725c39fb5",
   "metadata": {},
   "outputs": [],
   "source": [
    "message = Path(\"historical_flood_eve\n",
    "upstream_gpkg_file = Path(\"historical_flood_event/rfc?chann"
   ]
  }
 ],
 "metadata": {
  "kernelspec": {
   "display_name": "Python 3 (ipykernel)",
   "language": "python",
   "name": "python3"
  },
  "language_info": {
   "codemirror_mode": {
    "name": "ipython",
    "version": 3
   },
   "file_extension": ".py",
   "mimetype": "text/x-python",
   "name": "python",
   "nbconvert_exporter": "python",
   "pygments_lexer": "ipython3",
   "version": "3.11.9"
  }
 },
 "nbformat": 4,
 "nbformat_minor": 5
}

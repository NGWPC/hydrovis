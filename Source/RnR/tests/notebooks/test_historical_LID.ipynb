{
 "cells": [
  {
   "cell_type": "markdown",
   "id": "a68682e2-c7b4-4637-89ef-bf3279e735ed",
   "metadata": {},
   "source": [
    "# Test Historical Flooding Event\n",
    "\n",
    "As per the PWS requirements, RTX is obligated to test RnR on a historical event. The purpose of this notebook is to showcase the internal functions within RnR while demonstrating the capability"
   ]
  },
  {
   "cell_type": "code",
   "execution_count": null,
   "id": "15635992-d45b-4169-be19-6b362ad03d37",
   "metadata": {},
   "outputs": [],
   "source": [
    "# Reference the historical data\n",
    "\n",
    "\n"
   ]
  }
 ],
 "metadata": {
  "kernelspec": {
   "display_name": "Python 3 (ipykernel)",
   "language": "python",
   "name": "python3"
  },
  "language_info": {
   "codemirror_mode": {
    "name": "ipython",
    "version": 3
   },
   "file_extension": ".py",
   "mimetype": "text/x-python",
   "name": "python",
   "nbconvert_exporter": "python",
   "pygments_lexer": "ipython3",
   "version": "3.11.9"
  }
 },
 "nbformat": 4,
 "nbformat_minor": 5
}

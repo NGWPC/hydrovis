{
 "cells": [
  {
   "cell_type": "markdown",
   "metadata": {},
   "source": [
    "## This script ingests the Critical Infrastructure Service into the HydroVIS EGIS Database. ##"
   ]
  },
  {
   "cell_type": "markdown",
   "metadata": {},
   "source": [
    "Importing necessary modules and helper functions"
   ]
  },
  {
   "cell_type": "code",
   "execution_count": 1,
   "metadata": {},
   "outputs": [
    {
     "data": {
      "text/html": [
       "<style>.container { width:90% !important; }</style>"
      ],
      "text/plain": [
       "<IPython.core.display.HTML object>"
      ]
     },
     "metadata": {},
     "output_type": "display_data"
    }
   ],
   "source": [
    "import requests\n",
    "import geopandas as gdp\n",
    "import sys\n",
    "import os\n",
    "from shapely.geometry import shape\n",
    "from arcgis.gis import GIS\n",
    "\n",
    "#Adding parent folder to the Python path to grab helper functions.\n",
    "sys.path.append(os.path.dirname(os.path.abspath('')))\n",
    "\n",
    "#Importing necessary helper functions.\n",
    "from helper_functions.shared_functions import get_db_engine, move_data_from_viz_to_egis"
   ]
  },
  {
   "cell_type": "markdown",
   "metadata": {},
   "source": [
    "The Critical Infrastructure point layer is hosted as a feature service for storage and accessibility purposes. To retreive it within this script, you'll have to login to your TI ArcGIS Online account. You must setup environment variables \"EKS_EGIS_TI_USERNAME\" and \"EKS_EGIS_TI_PASSWORD\" in the windows environment variables. Once done, you'll need to close/reopen your IDE for it to successfully find your environment variables. \n",
    "\n",
    "This data is from https://services2.arcgis.com/C8EMgrsFcRFL6LrL/arcgis/rest/services/All_Infrastructure_Merge/FeatureServer/0. This data can still be accessed by logging in to https://noaa.maps.arcgis.com/home/ and finding the \"All_Infrastructure_Merge\" feature service. This data is derived from FEMA infrastructure datasaets. \n",
    "\n",
    "To get an editable copy of this data, the services2.arcgis.com link was used to connect to a new server in ArcGIS Pro. Feature service -> feature service in the geoprocessing toolbox was used to save it as a new local geodatabase. Then, for future accessbility, the data was published as a feature service within the EKS EGIS TI portal with organization wide access. This feature service is then connected to below for ingestion to the egis database."
   ]
  },
  {
   "cell_type": "code",
   "execution_count": null,
   "metadata": {},
   "outputs": [],
   "source": [
    "#Defining constants\n",
    "FEATURE_SERVICE_URL = \"https://eks-maps-testing.water.noaa.gov/server/rest/services/Hosted/static_public_critical_infrastructure_points_fema/FeatureServer/0/\"\n",
    "DB_TABLE_NAME = \"static_public_critical_infrastructure_points_fema\"\n",
    "\n",
    "#User Crednetials for the TI portal that contains the servce.\n",
    "#You must setup environment variables EKS_EGIS_TI_USERNAME and EKS_EGIS_TI_PASSWORD\n",
    "username = os.getenv(\"EKS_EGIS_TI_USERNAME\")\n",
    "password = os.getenv(\"EKS_EGIS_TI_PASSWORD\")\n",
    "\n",
    "if not username or not password:\n",
    "    raise EnvironmentError(\"Environment variables EKS_EGIS_TI_USERNAME and/or EKS_EGIS_TI_PASSWORD are not set.\")\n",
    "\n",
    "#Logging into the testing ArcGIS Portal\n",
    "print(\"Attempting to login...\")\n",
    "gis = GIS(url=\"https://eks-maps-testing.water.noaa.gov/server/\", username=username, password=password, verify_cert=False)\n",
    "\n",
    "if gis is None or gis.users.me is None:\n",
    "    print(\"Login failed.\")\n",
    "else:\n",
    "    print(\"Succesfully logged in as \" + str(gis.properties.user.username))\n",
    "\n",
    "#Retrieving the token\n",
    "token = gis.session.auth.token"
   ]
  },
  {
   "cell_type": "markdown",
   "metadata": {},
   "source": [
    "This section fetches the data from the ArcGIS Server. The arcgis API restricts the number of rows that can be fetched to 2000. To get around this, we implement pagination with a while loop to keep grabbing a maximum of 2000 rows until we have all of the data. It should take no more than a couple of minutes to grab the data and store the features in an array variable called all_features. You'll run this section once, inspect the printed statement to ensure you're getting all of the data, then run the next functions."
   ]
  },
  {
   "cell_type": "code",
   "execution_count": 4,
   "metadata": {},
   "outputs": [],
   "source": [
    "def fetch_feature_service_data(feature_service_url):\n",
    "    #Pagination variables to deal with ArcGIS Feature Service row limit of 2000\n",
    "    max_record_count = 2000 #Row request limit\n",
    "    offset = 0\n",
    "    all_features = []\n",
    "\n",
    "    while True:\n",
    "        #Fetches data from the ArcGIS Server and prints some of the resulting GeoJSON for testing\n",
    "        query_url = f\"{feature_service_url}/query?where=1%3D1&outFields=*&outSR=3857&f=geojson&token={token}&resultOffset={offset}&resultRecordCount={max_record_count}\"\n",
    "\n",
    "        #Request the data\n",
    "        response = requests.get(query_url)\n",
    "        response.raise_for_status() # Raise an error if the request fails\n",
    "\n",
    "        #Parse it as a GeoJSON\n",
    "        geojson = response.json()\n",
    "        \n",
    "        #Creating shapely geometries\n",
    "        features = geojson.get('features', [])\n",
    "        if not features:\n",
    "            print(\"No more features found.\")\n",
    "            break\n",
    "        \n",
    "        #Append fetched feature to list\n",
    "        all_features.extend(features)\n",
    "        print(f\"Fetched {len(features)} features. Total so far: {len(all_features)}\")\n",
    "\n",
    "        #Increment offset for next query\n",
    "        offset += max_record_count\n",
    "    \n",
    "    print(f\"Total features fetched: {len(all_features)}\")   \n",
    "    return all_features"
   ]
  },
  {
   "cell_type": "markdown",
   "metadata": {},
   "source": [
    "This function takes the all_features array the previous function returns, and stores it in a GeoDataFrame that it returns as df. It also creates the necessary oid field that's used in the VPP. "
   ]
  },
  {
   "cell_type": "code",
   "execution_count": 1,
   "metadata": {},
   "outputs": [],
   "source": [
    "def create_dataframe_from_features(features):\n",
    "    attributes = [f['properties'] for f in features]\n",
    "    geom = [shape(f['geometry']) for f in features]\n",
    "\n",
    "    #Create GeoDataFrame\n",
    "    df = gdp.GeoDataFrame(attributes, geometry = geom, crs = 'EPSG:3857')\n",
    "\n",
    "    #Add oid column\n",
    "    df = df.copy()\n",
    "    if \"ObjectID\" in df.columns:\n",
    "        print(\"ObjectID column found. Copying to the new oid column.\")\n",
    "        df[\"oid\"] = df[\"ObjectID\"].astype(int)\n",
    "    else:\n",
    "        print(\"No ObjectID column found. Making it from scratch.\")\n",
    "        df[\"oid\"] = range(1, len(df) +1)\n",
    "\n",
    "    #Print to see final GeoDataFrame before exporting to PostGIS\n",
    "    print(\"\\nSample of the GeoDataFrame with the added 'oid' column:\")\n",
    "    print(df.head(5).to_string(index=False))\n",
    "\n",
    "    #Print the column names\n",
    "    print(\"\\nColumns in the GeoDataFrame\")\n",
    "    print(df.columns.to_list())\n",
    "\n",
    "    #Print the number of rows in the dataframe\n",
    "    print(\"\\nNumber of rows in datraframe: \")\n",
    "    print(len(df))\n",
    "\n",
    "    return df"
   ]
  },
  {
   "cell_type": "markdown",
   "metadata": {},
   "source": [
    "Now we're ready to execute the fetch_feature_service_data function."
   ]
  },
  {
   "cell_type": "code",
   "execution_count": null,
   "metadata": {},
   "outputs": [],
   "source": [
    "#Fetch the data\n",
    "print(f\"Fetching data from: {FEATURE_SERVICE_URL}\")\n",
    "features = fetch_feature_service_data(FEATURE_SERVICE_URL)"
   ]
  },
  {
   "cell_type": "code",
   "execution_count": null,
   "metadata": {},
   "outputs": [],
   "source": [
    "#Create GeoDataFrame from the downloaded features\n",
    "df = create_dataframe_from_features(features)"
   ]
  },
  {
   "cell_type": "markdown",
   "metadata": {},
   "source": [
    "In this section we actually save the data to our postgis database. You'll need to setup your environment variables with the host address, username and password for the viz and egis database. These can be found in the RDS and Secrets Manager tools within the AWS TI platform.\n",
    "\n",
    "When writing to the viz database, the 'if_exists' clause is set to 'replace' by default. Use caution, as this will overwrite the table. If you have updated the reference feature service and want to add new rows to the table, set if_exists = 'append'. If you are running this and want to be sure the table exists, set if_exists = 'fail' which will stop the script from altering the current table. "
   ]
  },
  {
   "cell_type": "code",
   "execution_count": 11,
   "metadata": {},
   "outputs": [],
   "source": [
    "#Save to DB\n",
    "df.to_postgis(\"static_public_critical_infrastructure_points_fema\", get_db_engine('viz'), schema='dev', if_exists='replace')"
   ]
  },
  {
   "cell_type": "markdown",
   "metadata": {},
   "source": [
    "After checking the viz database for any issues and reviewing the data in ArcGIS Pro, we can migrate the table from the viz database to the egis database."
   ]
  },
  {
   "cell_type": "code",
   "execution_count": null,
   "metadata": {},
   "outputs": [],
   "source": [
    "move_data_from_viz_to_egis('dev.static_public_critical_infrastructure_points_fema', 'reference.static_public_critical_infrastructure_points_fema')"
   ]
  }
 ],
 "metadata": {
  "kernelspec": {
   "display_name": "base",
   "language": "python",
   "name": "python3"
  },
  "language_info": {
   "codemirror_mode": {
    "name": "ipython",
    "version": 3
   },
   "file_extension": ".py",
   "mimetype": "text/x-python",
   "name": "python",
   "nbconvert_exporter": "python",
   "pygments_lexer": "ipython3",
   "version": "3.12.7"
  }
 },
 "nbformat": 4,
 "nbformat_minor": 2
}
